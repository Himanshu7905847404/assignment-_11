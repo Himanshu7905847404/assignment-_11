{
 "cells": [
  {
   "cell_type": "code",
   "execution_count": 1,
   "id": "9d48692a-b6a4-4bac-8889-9fbc9b4fa3f0",
   "metadata": {},
   "outputs": [],
   "source": [
    "# solution"
   ]
  },
  {
   "cell_type": "code",
   "execution_count": 2,
   "id": "51cd362b-4cae-4716-b000-138f8f6dc9df",
   "metadata": {},
   "outputs": [],
   "source": [
    "# Q1.\n",
    "'''open() function function is used to open a file.\n",
    "   f=open(\"trial.txt\",\"w\")...> This will create a file whose name is trial.txt and \"w\" mode is usedn to write some things inside this created file\n",
    "   f.write(\"This is my new file\").\n",
    "   Different mode of opening the file are:\n",
    "   r\tOpen a file for reading. (default)\n",
    "   w\tOpen a file for writing. Creates a new file if it does not exist or truncates the file if it exists.\n",
    "   x\tOpen a file for exclusive creation. If the file already exists, the operation fails.\n",
    "   a\tOpen a file for appending at the end of the file without truncating it. Creates a new file if it does not exist.\n",
    "   t\tOpen in text mode. (default)\n",
    "   b\tOpen in binary mode.\n",
    "   +\tOpen a file for updating (reading and writing)'''\n",
    "f=open(\"trial.txt\",\"w\")"
   ]
  },
  {
   "cell_type": "code",
   "execution_count": 4,
   "id": "96f70182-91ab-4c9c-98ca-8a9d9bb577ce",
   "metadata": {},
   "outputs": [
    {
     "data": {
      "text/plain": [
       "115"
      ]
     },
     "execution_count": 4,
     "metadata": {},
     "output_type": "execute_result"
    }
   ],
   "source": [
    "f.write(\"This will create a file whose name is trial.txt and 'w' mode is usedn to write some things inside this created file\")"
   ]
  },
  {
   "cell_type": "code",
   "execution_count": 6,
   "id": "dd4cbb9a-5cc3-4b7d-b0fb-39b2f42f4c1c",
   "metadata": {},
   "outputs": [],
   "source": [
    "f=open(\"trial.txt\",\"r\")"
   ]
  },
  {
   "cell_type": "code",
   "execution_count": 7,
   "id": "25d1f10a-70dd-4e41-9d43-3e3615a6d584",
   "metadata": {},
   "outputs": [
    {
     "data": {
      "text/plain": [
       "\"This will create a file whose name is trial.txt and 'w' mode is usedn to write some things inside this created file\""
      ]
     },
     "execution_count": 7,
     "metadata": {},
     "output_type": "execute_result"
    }
   ],
   "source": [
    "f.read()"
   ]
  },
  {
   "cell_type": "code",
   "execution_count": 8,
   "id": "31e9f725-c082-41dd-9fa0-d888cf36f34e",
   "metadata": {},
   "outputs": [
    {
     "data": {
      "text/plain": [
       "''"
      ]
     },
     "execution_count": 8,
     "metadata": {},
     "output_type": "execute_result"
    }
   ],
   "source": [
    "f.readline()"
   ]
  },
  {
   "cell_type": "code",
   "execution_count": 9,
   "id": "d53f1e22-a55c-477c-b8e1-96dc44a56d19",
   "metadata": {},
   "outputs": [
    {
     "data": {
      "text/plain": [
       "0"
      ]
     },
     "execution_count": 9,
     "metadata": {},
     "output_type": "execute_result"
    }
   ],
   "source": [
    "f.seek(0)"
   ]
  },
  {
   "cell_type": "code",
   "execution_count": 10,
   "id": "dad2838a-c025-4d67-801c-f3fe4e0ec161",
   "metadata": {},
   "outputs": [
    {
     "data": {
      "text/plain": [
       "\"This will create a file whose name is trial.txt and 'w' mode is usedn to write some things inside this created file\""
      ]
     },
     "execution_count": 10,
     "metadata": {},
     "output_type": "execute_result"
    }
   ],
   "source": [
    "f.readline()"
   ]
  },
  {
   "cell_type": "code",
   "execution_count": 11,
   "id": "c2993c9f-0a74-4c0c-9074-09ede5656f54",
   "metadata": {},
   "outputs": [
    {
     "data": {
      "text/plain": [
       "10"
      ]
     },
     "execution_count": 11,
     "metadata": {},
     "output_type": "execute_result"
    }
   ],
   "source": [
    "f.seek(10)"
   ]
  },
  {
   "cell_type": "code",
   "execution_count": 12,
   "id": "20564ca6-2d7e-4ff8-b986-1f944491dcf2",
   "metadata": {},
   "outputs": [
    {
     "data": {
      "text/plain": [
       "\"create a file whose name is trial.txt and 'w' mode is usedn to write some things inside this created file\""
      ]
     },
     "execution_count": 12,
     "metadata": {},
     "output_type": "execute_result"
    }
   ],
   "source": [
    "f.readline()"
   ]
  },
  {
   "cell_type": "code",
   "execution_count": 13,
   "id": "e3b6430c-9015-4376-ad23-66f0c6ef9524",
   "metadata": {},
   "outputs": [
    {
     "ename": "FileExistsError",
     "evalue": "[Errno 17] File exists: 'trial.txt'",
     "output_type": "error",
     "traceback": [
      "\u001b[0;31m---------------------------------------------------------------------------\u001b[0m",
      "\u001b[0;31mFileExistsError\u001b[0m                           Traceback (most recent call last)",
      "Cell \u001b[0;32mIn[13], line 1\u001b[0m\n\u001b[0;32m----> 1\u001b[0m f\u001b[38;5;241m=\u001b[39m\u001b[38;5;28;43mopen\u001b[39;49m\u001b[43m(\u001b[49m\u001b[38;5;124;43m\"\u001b[39;49m\u001b[38;5;124;43mtrial.txt\u001b[39;49m\u001b[38;5;124;43m\"\u001b[39;49m\u001b[43m,\u001b[49m\u001b[38;5;124;43m\"\u001b[39;49m\u001b[38;5;124;43mx\u001b[39;49m\u001b[38;5;124;43m\"\u001b[39;49m\u001b[43m)\u001b[49m\n",
      "File \u001b[0;32m/opt/conda/lib/python3.10/site-packages/IPython/core/interactiveshell.py:282\u001b[0m, in \u001b[0;36m_modified_open\u001b[0;34m(file, *args, **kwargs)\u001b[0m\n\u001b[1;32m    275\u001b[0m \u001b[38;5;28;01mif\u001b[39;00m file \u001b[38;5;129;01min\u001b[39;00m {\u001b[38;5;241m0\u001b[39m, \u001b[38;5;241m1\u001b[39m, \u001b[38;5;241m2\u001b[39m}:\n\u001b[1;32m    276\u001b[0m     \u001b[38;5;28;01mraise\u001b[39;00m \u001b[38;5;167;01mValueError\u001b[39;00m(\n\u001b[1;32m    277\u001b[0m         \u001b[38;5;124mf\u001b[39m\u001b[38;5;124m\"\u001b[39m\u001b[38;5;124mIPython won\u001b[39m\u001b[38;5;124m'\u001b[39m\u001b[38;5;124mt let you open fd=\u001b[39m\u001b[38;5;132;01m{\u001b[39;00mfile\u001b[38;5;132;01m}\u001b[39;00m\u001b[38;5;124m by default \u001b[39m\u001b[38;5;124m\"\u001b[39m\n\u001b[1;32m    278\u001b[0m         \u001b[38;5;124m\"\u001b[39m\u001b[38;5;124mas it is likely to crash IPython. If you know what you are doing, \u001b[39m\u001b[38;5;124m\"\u001b[39m\n\u001b[1;32m    279\u001b[0m         \u001b[38;5;124m\"\u001b[39m\u001b[38;5;124myou can use builtins\u001b[39m\u001b[38;5;124m'\u001b[39m\u001b[38;5;124m open.\u001b[39m\u001b[38;5;124m\"\u001b[39m\n\u001b[1;32m    280\u001b[0m     )\n\u001b[0;32m--> 282\u001b[0m \u001b[38;5;28;01mreturn\u001b[39;00m \u001b[43mio_open\u001b[49m\u001b[43m(\u001b[49m\u001b[43mfile\u001b[49m\u001b[43m,\u001b[49m\u001b[43m \u001b[49m\u001b[38;5;241;43m*\u001b[39;49m\u001b[43margs\u001b[49m\u001b[43m,\u001b[49m\u001b[43m \u001b[49m\u001b[38;5;241;43m*\u001b[39;49m\u001b[38;5;241;43m*\u001b[39;49m\u001b[43mkwargs\u001b[49m\u001b[43m)\u001b[49m\n",
      "\u001b[0;31mFileExistsError\u001b[0m: [Errno 17] File exists: 'trial.txt'"
     ]
    }
   ],
   "source": [
    "f=open(\"trial.txt\",\"x\")"
   ]
  },
  {
   "cell_type": "code",
   "execution_count": 14,
   "id": "0ab7bd86-e170-447f-9798-44ad3cea8676",
   "metadata": {},
   "outputs": [],
   "source": [
    "#  If the file already exists, the operation fails. this will notify...>  \"x\" mode"
   ]
  },
  {
   "cell_type": "code",
   "execution_count": 15,
   "id": "25b02229-98d0-46de-acbc-c799bfe613c8",
   "metadata": {},
   "outputs": [],
   "source": [
    "f=open(\"trial.txt\",\"a\")"
   ]
  },
  {
   "cell_type": "code",
   "execution_count": 16,
   "id": "1bbb0a11-b4b5-4912-b2ea-b52dd3a5798e",
   "metadata": {},
   "outputs": [
    {
     "data": {
      "text/plain": [
       "64"
      ]
     },
     "execution_count": 16,
     "metadata": {},
     "output_type": "execute_result"
    }
   ],
   "source": [
    "f.write(\"HELLO EVERYONE HOW ARE YOU ALL KNOW A DAY LETS DO SOME ENERGETIC\")# this will add this sentence at the end of previous sentence which is already present inside the trial.txt file"
   ]
  },
  {
   "cell_type": "code",
   "execution_count": 18,
   "id": "f0c45de8-0720-47d6-9438-bf5d03da6e75",
   "metadata": {},
   "outputs": [],
   "source": [
    "f=open(\"trial.txt\",\"r\")"
   ]
  },
  {
   "cell_type": "code",
   "execution_count": 19,
   "id": "51e2d0bf-bf55-495d-95a9-572bb7f56def",
   "metadata": {},
   "outputs": [
    {
     "data": {
      "text/plain": [
       "\"This will create a file whose name is trial.txt and 'w' mode is usedn to write some things inside this created fileHELLO EVERYONE HOW ARE YOU ALL KNOW A DAY LETS DO SOME ENERGETIC\""
      ]
     },
     "execution_count": 19,
     "metadata": {},
     "output_type": "execute_result"
    }
   ],
   "source": [
    "f.read()"
   ]
  },
  {
   "cell_type": "code",
   "execution_count": 21,
   "id": "b8741599-2b50-4db8-9944-2494c409a9c6",
   "metadata": {},
   "outputs": [
    {
     "name": "stdout",
     "output_type": "stream",
     "text": [
      "b\"This will create a file whose name is trial.txt and 'w' mode is usedn to write some things inside this created fileHELLO EVERYONE HOW ARE YOU ALL KNOW A DAY LETS DO SOME ENERGETIC\"\n"
     ]
    }
   ],
   "source": [
    "with open(\"trial.txt\",\"r+b\") as file1:\n",
    "    read_content = file1.read()\n",
    "    print(read_content)"
   ]
  },
  {
   "cell_type": "code",
   "execution_count": 23,
   "id": "d911a18d-8c39-4fcd-b491-ff6375fa45b5",
   "metadata": {},
   "outputs": [
    {
     "ename": "ValueError",
     "evalue": "must have exactly one of create/read/write/append mode",
     "output_type": "error",
     "traceback": [
      "\u001b[0;31m---------------------------------------------------------------------------\u001b[0m",
      "\u001b[0;31mValueError\u001b[0m                                Traceback (most recent call last)",
      "Cell \u001b[0;32mIn[23], line 1\u001b[0m\n\u001b[0;32m----> 1\u001b[0m f\u001b[38;5;241m=\u001b[39m\u001b[38;5;28;43mopen\u001b[39;49m\u001b[43m(\u001b[49m\u001b[38;5;124;43m\"\u001b[39;49m\u001b[38;5;124;43mtrial.txt\u001b[39;49m\u001b[38;5;124;43m\"\u001b[39;49m\u001b[43m,\u001b[49m\u001b[38;5;124;43m\"\u001b[39;49m\u001b[38;5;124;43mr+w\u001b[39;49m\u001b[38;5;124;43m\"\u001b[39;49m\u001b[43m)\u001b[49m\n",
      "File \u001b[0;32m/opt/conda/lib/python3.10/site-packages/IPython/core/interactiveshell.py:282\u001b[0m, in \u001b[0;36m_modified_open\u001b[0;34m(file, *args, **kwargs)\u001b[0m\n\u001b[1;32m    275\u001b[0m \u001b[38;5;28;01mif\u001b[39;00m file \u001b[38;5;129;01min\u001b[39;00m {\u001b[38;5;241m0\u001b[39m, \u001b[38;5;241m1\u001b[39m, \u001b[38;5;241m2\u001b[39m}:\n\u001b[1;32m    276\u001b[0m     \u001b[38;5;28;01mraise\u001b[39;00m \u001b[38;5;167;01mValueError\u001b[39;00m(\n\u001b[1;32m    277\u001b[0m         \u001b[38;5;124mf\u001b[39m\u001b[38;5;124m\"\u001b[39m\u001b[38;5;124mIPython won\u001b[39m\u001b[38;5;124m'\u001b[39m\u001b[38;5;124mt let you open fd=\u001b[39m\u001b[38;5;132;01m{\u001b[39;00mfile\u001b[38;5;132;01m}\u001b[39;00m\u001b[38;5;124m by default \u001b[39m\u001b[38;5;124m\"\u001b[39m\n\u001b[1;32m    278\u001b[0m         \u001b[38;5;124m\"\u001b[39m\u001b[38;5;124mas it is likely to crash IPython. If you know what you are doing, \u001b[39m\u001b[38;5;124m\"\u001b[39m\n\u001b[1;32m    279\u001b[0m         \u001b[38;5;124m\"\u001b[39m\u001b[38;5;124myou can use builtins\u001b[39m\u001b[38;5;124m'\u001b[39m\u001b[38;5;124m open.\u001b[39m\u001b[38;5;124m\"\u001b[39m\n\u001b[1;32m    280\u001b[0m     )\n\u001b[0;32m--> 282\u001b[0m \u001b[38;5;28;01mreturn\u001b[39;00m \u001b[43mio_open\u001b[49m\u001b[43m(\u001b[49m\u001b[43mfile\u001b[49m\u001b[43m,\u001b[49m\u001b[43m \u001b[49m\u001b[38;5;241;43m*\u001b[39;49m\u001b[43margs\u001b[49m\u001b[43m,\u001b[49m\u001b[43m \u001b[49m\u001b[38;5;241;43m*\u001b[39;49m\u001b[38;5;241;43m*\u001b[39;49m\u001b[43mkwargs\u001b[49m\u001b[43m)\u001b[49m\n",
      "\u001b[0;31mValueError\u001b[0m: must have exactly one of create/read/write/append mode"
     ]
    }
   ],
   "source": []
  },
  {
   "cell_type": "code",
   "execution_count": 27,
   "id": "39d7d096-9b2d-4037-8ce1-506141baaff3",
   "metadata": {},
   "outputs": [
    {
     "name": "stdout",
     "output_type": "stream",
     "text": [
      "\n",
      "        Python file method close() closes the opened file. A closed file cannot be read or written any more. \n",
      "        Any operation, which requires that the file be opened will raise a ValueError after the file has been closed. \n",
      "        Calling close() more than once is allowed.\n"
     ]
    }
   ],
   "source": [
    "#Q2.\n",
    "''' \n",
    "close() function is used to closed the open file which we read,write,create file,append somethings in the open file .\n",
    "The close() method closes an open file. You should always close your files,\n",
    "in some cases, due to buffering, changes made to a file may not show until you close the file.'''\n",
    "\n",
    "print('''\n",
    "        Python file method close() closes the opened file. A closed file cannot be read or written any more. \n",
    "        Any operation, which requires that the file be opened will raise a ValueError after the file has been closed. \n",
    "        Calling close() more than once is allowed.''')"
   ]
  },
  {
   "cell_type": "code",
   "execution_count": 28,
   "id": "2a3bc2ec-d012-43cc-b807-507292879604",
   "metadata": {},
   "outputs": [],
   "source": [
    "f.close()"
   ]
  },
  {
   "cell_type": "code",
   "execution_count": 1,
   "id": "0c33af8f-ea07-4a1b-97e9-0592f5d53df8",
   "metadata": {},
   "outputs": [
    {
     "ename": "NameError",
     "evalue": "name 'f' is not defined",
     "output_type": "error",
     "traceback": [
      "\u001b[0;31m---------------------------------------------------------------------------\u001b[0m",
      "\u001b[0;31mNameError\u001b[0m                                 Traceback (most recent call last)",
      "Cell \u001b[0;32mIn[1], line 1\u001b[0m\n\u001b[0;32m----> 1\u001b[0m \u001b[43mf\u001b[49m\u001b[38;5;241m.\u001b[39mread()\n",
      "\u001b[0;31mNameError\u001b[0m: name 'f' is not defined"
     ]
    }
   ],
   "source": [
    "f.read()"
   ]
  },
  {
   "cell_type": "code",
   "execution_count": 9,
   "id": "e54cdfaa-4829-4249-a7d6-61bcef5c98cb",
   "metadata": {},
   "outputs": [],
   "source": [
    "# Q3.\n",
    "f1=open(\"text.txt\",\"w\")"
   ]
  },
  {
   "cell_type": "code",
   "execution_count": 10,
   "id": "b0bee87c-f704-420f-808d-98b749ef72d1",
   "metadata": {},
   "outputs": [
    {
     "data": {
      "text/plain": [
       "33"
      ]
     },
     "execution_count": 10,
     "metadata": {},
     "output_type": "execute_result"
    }
   ],
   "source": [
    "f1.write('I want to become a Data Scientist')"
   ]
  },
  {
   "cell_type": "code",
   "execution_count": 12,
   "id": "460978f9-6aab-4995-8b28-6bdc9696559c",
   "metadata": {},
   "outputs": [],
   "source": [
    "f1.close()"
   ]
  },
  {
   "cell_type": "code",
   "execution_count": 13,
   "id": "be6c5d8c-3573-4ffb-b296-42da1a8ed035",
   "metadata": {},
   "outputs": [],
   "source": [
    "f1=open(\"text.txt\",\"r\")"
   ]
  },
  {
   "cell_type": "code",
   "execution_count": 14,
   "id": "59ddad34-c001-488f-82f5-e17fa3e3f665",
   "metadata": {},
   "outputs": [
    {
     "data": {
      "text/plain": [
       "'I want to become a Data Scientist'"
      ]
     },
     "execution_count": 14,
     "metadata": {},
     "output_type": "execute_result"
    }
   ],
   "source": [
    "f1.read()"
   ]
  },
  {
   "cell_type": "code",
   "execution_count": 15,
   "id": "d362320e-25b7-4b75-8184-4e7ff07ad7a0",
   "metadata": {},
   "outputs": [],
   "source": [
    "# Q4.\n",
    "''' The read() method returns the specified number of bytes from the file. Default is -1 which means the whole file.\n",
    "    readline() method will return a line from the file when called. \n",
    "    readlines() method will return all the lines in a file in the format of a list where each element is a line in the file.\n",
    "    '''\n",
    "f=open(\"first.txt\",\"w\")"
   ]
  },
  {
   "cell_type": "code",
   "execution_count": 16,
   "id": "2dd2d423-3714-4bfb-9488-d551e1ff858d",
   "metadata": {},
   "outputs": [
    {
     "data": {
      "text/plain": [
       "306"
      ]
     },
     "execution_count": 16,
     "metadata": {},
     "output_type": "execute_result"
    }
   ],
   "source": [
    "f.write('''The read() method returns the specified number of bytes from the file. Default is -1 which means the whole file.\n",
    "    readline() method will return a line from the file when called. \n",
    "    readlines() method will return all the lines in a file in the format of a list where each element is a line in the file.''')"
   ]
  },
  {
   "cell_type": "code",
   "execution_count": 17,
   "id": "4aae3648-46a7-4fd9-a61c-28e42d20bb12",
   "metadata": {},
   "outputs": [],
   "source": [
    "f=open(\"first.txt\",\"r\")"
   ]
  },
  {
   "cell_type": "code",
   "execution_count": 18,
   "id": "e0be47ec-6433-49b1-9a80-fd5846cd6cc9",
   "metadata": {},
   "outputs": [
    {
     "data": {
      "text/plain": [
       "'The read() method returns the specified number of bytes from the file. Default is -1 which means the whole file.\\n    readline() method will return a line from the file when called. \\n    readlines() method will return all the lines in a file in the format of a list where each element is a line in the file.'"
      ]
     },
     "execution_count": 18,
     "metadata": {},
     "output_type": "execute_result"
    }
   ],
   "source": [
    "f.read()"
   ]
  },
  {
   "cell_type": "code",
   "execution_count": 19,
   "id": "bade995c-b78a-4968-9d05-169c60b8145f",
   "metadata": {},
   "outputs": [
    {
     "data": {
      "text/plain": [
       "0"
      ]
     },
     "execution_count": 19,
     "metadata": {},
     "output_type": "execute_result"
    }
   ],
   "source": [
    "f.seek(0)"
   ]
  },
  {
   "cell_type": "code",
   "execution_count": 20,
   "id": "e373c26b-aed8-44e6-b36f-643b22ad316b",
   "metadata": {},
   "outputs": [
    {
     "data": {
      "text/plain": [
       "'The read() method returns the specified number of bytes from the file. Default is -1 which means the whole file.\\n'"
      ]
     },
     "execution_count": 20,
     "metadata": {},
     "output_type": "execute_result"
    }
   ],
   "source": [
    "f.readline()"
   ]
  },
  {
   "cell_type": "code",
   "execution_count": 21,
   "id": "77b5b949-e746-4ee0-8662-e2f2c2f0bf87",
   "metadata": {},
   "outputs": [
    {
     "data": {
      "text/plain": [
       "10"
      ]
     },
     "execution_count": 21,
     "metadata": {},
     "output_type": "execute_result"
    }
   ],
   "source": [
    "f.seek(10)"
   ]
  },
  {
   "cell_type": "code",
   "execution_count": 22,
   "id": "48092e96-73d1-4088-bfe4-57081ecfd4ea",
   "metadata": {},
   "outputs": [
    {
     "data": {
      "text/plain": [
       "' method returns the specified number of bytes from the file. Default is -1 which means the whole file.\\n'"
      ]
     },
     "execution_count": 22,
     "metadata": {},
     "output_type": "execute_result"
    }
   ],
   "source": [
    "f.readline()"
   ]
  },
  {
   "cell_type": "code",
   "execution_count": 24,
   "id": "b39b8a3f-3bf1-44b1-aa65-e3660666fadf",
   "metadata": {},
   "outputs": [
    {
     "data": {
      "text/plain": [
       "0"
      ]
     },
     "execution_count": 24,
     "metadata": {},
     "output_type": "execute_result"
    }
   ],
   "source": [
    "f.seek(0)"
   ]
  },
  {
   "cell_type": "code",
   "execution_count": 25,
   "id": "21b49537-bb61-4ade-be5b-116e1413283b",
   "metadata": {},
   "outputs": [
    {
     "data": {
      "text/plain": [
       "['The read() method returns the specified number of bytes from the file. Default is -1 which means the whole file.\\n',\n",
       " '    readline() method will return a line from the file when called. \\n',\n",
       " '    readlines() method will return all the lines in a file in the format of a list where each element is a line in the file.']"
      ]
     },
     "execution_count": 25,
     "metadata": {},
     "output_type": "execute_result"
    }
   ],
   "source": [
    "f.readlines()"
   ]
  },
  {
   "cell_type": "code",
   "execution_count": 32,
   "id": "c583816b-e8e6-4d4e-901c-0653b4a71330",
   "metadata": {},
   "outputs": [],
   "source": [
    "# Q5.\n",
    "'''with statement is used in exception handling to make the code cleaner and much more readable. \n",
    "   It simplifies the management of common resources like file streams.\n",
    "    \n",
    "    Advantages: there is no need to call file.close() when using with statement.'''\n",
    "with open(\"type.txt\",\"w\") as file1:\n",
    "    file1.write('''with statement is used in exception handling to make the code cleaner and much more readable. \n",
    "                   It simplifies the management of common resources like file streams.\n",
    "    \n",
    "                    Advantages: there is no need to call file.close() when using with statement.''')"
   ]
  },
  {
   "cell_type": "code",
   "execution_count": 33,
   "id": "5dc4d54b-e42e-4f53-9d13-923bb3a50897",
   "metadata": {},
   "outputs": [],
   "source": [
    "file1=open(\"type.txt\",\"r\")"
   ]
  },
  {
   "cell_type": "code",
   "execution_count": 34,
   "id": "8227f37a-4f83-43c4-ad36-67a22003c398",
   "metadata": {},
   "outputs": [
    {
     "data": {
      "text/plain": [
       "'with statement is used in exception handling to make the code cleaner and much more readable. \\n                   It simplifies the management of common resources like file streams.\\n    \\n                    Advantages: there is no need to call file.close() when using with statement.'"
      ]
     },
     "execution_count": 34,
     "metadata": {},
     "output_type": "execute_result"
    }
   ],
   "source": [
    "file1.read()"
   ]
  },
  {
   "cell_type": "code",
   "execution_count": 69,
   "id": "25721488-dc7b-41f2-9d02-9147a132809a",
   "metadata": {},
   "outputs": [
    {
     "name": "stdout",
     "output_type": "stream",
     "text": [
      "write() function\n",
      "\n",
      "        The write() function will write the content in the file without adding any extra characters.\n"
     ]
    },
    {
     "name": "stdin",
     "output_type": "stream",
     "text": [
      "Enter the name of the employee:  himanshu\n",
      "Enter the name of the employee:  suraj\n",
      "Enter the name of the employee:  ram\n"
     ]
    },
    {
     "name": "stdout",
     "output_type": "stream",
     "text": [
      "Data is written into the file.\n"
     ]
    }
   ],
   "source": [
    "#Q6.\n",
    "''' The difference between Write() and WriteLine() method is based on new line character.\n",
    "    Write() method displays the output but do not provide a new line character.\n",
    "    WriteLine() method displays the output and also provides a new line character it the end of the string,\n",
    "    This would set a new line for the next output'''\n",
    "print('''write() function\n",
    "\n",
    "        The write() function will write the content in the file without adding any extra characters.''')\n",
    "\n",
    "file = open(\"Employees.txt\", \"w\")\n",
    "  \n",
    "for i in range(3):\n",
    "    name = input(\"Enter the name of the employee: \")\n",
    "    file.write(name)\n",
    "    file.write(\"\\n\")\n",
    "     \n",
    "file.close()\n",
    "  \n",
    "print(\"Data is written into the file.\")"
   ]
  },
  {
   "cell_type": "code",
   "execution_count": 70,
   "id": "bab2014f-99db-4689-97af-6d910e4a8885",
   "metadata": {},
   "outputs": [],
   "source": [
    "f2=open(\"Employees.txt\",\"r\")"
   ]
  },
  {
   "cell_type": "code",
   "execution_count": 71,
   "id": "35097152-d17e-4711-bd34-6e2ec5455cf0",
   "metadata": {},
   "outputs": [
    {
     "data": {
      "text/plain": [
       "'himanshu\\nsuraj\\nram\\n'"
      ]
     },
     "execution_count": 71,
     "metadata": {},
     "output_type": "execute_result"
    }
   ],
   "source": [
    "f2.read()"
   ]
  },
  {
   "cell_type": "code",
   "execution_count": 71,
   "id": "ad2f21e8-72d9-46dd-8265-ccdefcd464c4",
   "metadata": {},
   "outputs": [
    {
     "data": {
      "text/plain": [
       "'himanshu\\nsuraj\\nram\\n'"
      ]
     },
     "execution_count": 71,
     "metadata": {},
     "output_type": "execute_result"
    }
   ],
   "source": [
    "f2.seek(0)"
   ]
  },
  {
   "cell_type": "code",
   "execution_count": 71,
   "id": "3e970589-05fe-45d7-a300-8578324421cb",
   "metadata": {},
   "outputs": [
    {
     "data": {
      "text/plain": [
       "'himanshu\\nsuraj\\nram\\n'"
      ]
     },
     "execution_count": 71,
     "metadata": {},
     "output_type": "execute_result"
    }
   ],
   "source": [
    "f2.readlines()"
   ]
  },
  {
   "cell_type": "code",
   "execution_count": 72,
   "id": "ddad9853-ea42-47eb-85ac-1b6c37715aa7",
   "metadata": {},
   "outputs": [
    {
     "name": "stdout",
     "output_type": "stream",
     "text": [
      "\n",
      "        writelines() function\n",
      "        This function writes the content of a list to a file.\n"
     ]
    },
    {
     "name": "stdin",
     "output_type": "stream",
     "text": [
      "Enter the name of the employee:  himanshu\n",
      "Enter the name of the employee:  ice\n",
      "Enter the name of the employee:  fire\n"
     ]
    },
    {
     "name": "stdout",
     "output_type": "stream",
     "text": [
      "Data is written into the file.\n"
     ]
    }
   ],
   "source": [
    "print('''\n",
    "        writelines() function\n",
    "        This function writes the content of a list to a file.''')\n",
    "file1 = open(\"emp_comp.txt\", \"w\")\n",
    "lst = []\n",
    "for i in range(3):\n",
    "    name = input(\"Enter the name of the employee: \")\n",
    "    lst.append(name + '\\n')\n",
    "      \n",
    "file1.writelines(lst)\n",
    "file1.close()\n",
    "print(\"Data is written into the file.\") "
   ]
  },
  {
   "cell_type": "code",
   "execution_count": 73,
   "id": "7de9e199-f51f-48ef-bd18-c7478290b3f2",
   "metadata": {},
   "outputs": [],
   "source": [
    "f2=open(\"emp_comp.txt\",\"r\")"
   ]
  },
  {
   "cell_type": "code",
   "execution_count": 74,
   "id": "1a4ff348-31eb-49e4-b19d-b338b073667e",
   "metadata": {},
   "outputs": [
    {
     "data": {
      "text/plain": [
       "0"
      ]
     },
     "execution_count": 74,
     "metadata": {},
     "output_type": "execute_result"
    }
   ],
   "source": [
    "f2.seek(0)"
   ]
  },
  {
   "cell_type": "code",
   "execution_count": 75,
   "id": "e1a36eb3-c65d-48a5-86d6-328b912f4788",
   "metadata": {},
   "outputs": [
    {
     "data": {
      "text/plain": [
       "['himanshu\\n', 'ice\\n', 'fire\\n']"
      ]
     },
     "execution_count": 75,
     "metadata": {},
     "output_type": "execute_result"
    }
   ],
   "source": [
    "f2.readlines()"
   ]
  },
  {
   "cell_type": "code",
   "execution_count": null,
   "id": "c12da575-ca5c-4f9e-abfd-a2421453fb96",
   "metadata": {},
   "outputs": [],
   "source": []
  },
  {
   "cell_type": "code",
   "execution_count": null,
   "id": "2a201769-d373-4474-bb0d-dfae393998b0",
   "metadata": {},
   "outputs": [],
   "source": []
  }
 ],
 "metadata": {
  "kernelspec": {
   "display_name": "Python 3 (ipykernel)",
   "language": "python",
   "name": "python3"
  },
  "language_info": {
   "codemirror_mode": {
    "name": "ipython",
    "version": 3
   },
   "file_extension": ".py",
   "mimetype": "text/x-python",
   "name": "python",
   "nbconvert_exporter": "python",
   "pygments_lexer": "ipython3",
   "version": "3.10.8"
  }
 },
 "nbformat": 4,
 "nbformat_minor": 5
}
